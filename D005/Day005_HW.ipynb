{
 "cells": [
  {
   "cell_type": "markdown",
   "metadata": {},
   "source": [
    "# API 資料串接 - 以 Dcard API 實作範例\n",
    "\n",
    "* 了解 Dcard API 使用方式與回傳內容\n",
    "* 撰寫程式存取 API 且解析 JSON 格式資料\n"
   ]
  },
  {
   "cell_type": "markdown",
   "metadata": {},
   "source": [
    "## 作業目標\n",
    "\n",
    "* 請利用 API: https://www.dcard.tw/_api/forums/pet/posts?popular=true 回答下列問題：\n",
    "\n",
    "1. 這個 API 一次會回傳幾筆資料？每一筆資料包含哪些欄位？\n",
    "2. 取出每一筆資料的「標題」、「貼文時間」、「留言人數」、「按讚人數」\n",
    "3. 計算熱門/非熱門文章的「平均留言人數」與「平均按讚人數」"
   ]
  },
  {
   "cell_type": "code",
   "execution_count": 41,
   "metadata": {},
   "outputs": [
    {
     "name": "stdout",
     "output_type": "stream",
     "text": [
      "30 筆資料\n",
      "欄位如下:\n",
      "id\n",
      "title\n",
      "excerpt\n",
      "anonymousSchool\n",
      "anonymousDepartment\n",
      "pinned\n",
      "forumId\n",
      "replyId\n",
      "createdAt\n",
      "updatedAt\n",
      "commentCount\n",
      "likeCount\n",
      "withNickname\n",
      "tags\n",
      "topics\n",
      "meta\n",
      "forumName\n",
      "forumAlias\n",
      "gender\n",
      "school\n",
      "replyTitle\n",
      "mediaMeta\n",
      "reactions\n",
      "hidden\n",
      "customStyle\n",
      "isSuspiciousAccount\n",
      "layout\n",
      "withImages\n",
      "withVideos\n",
      "media\n",
      "reportReasonText\n",
      "postAvatar\n"
     ]
    }
   ],
   "source": [
    "# 1. 這個 API 一次會回傳幾筆資料？每一筆資料包含哪些欄位？\n",
    "import requests\n",
    "import json\n",
    "r = requests.get('https://www.dcard.tw/_api/forums/pet/posts?popular=true')\n",
    "response = r.text\n",
    "data = json.loads(response)\n",
    "# print(data)\n",
    "i=0\n",
    "j=0\n",
    "for line in data:\n",
    "    i=i+1\n",
    "#     print(line)\n",
    "print(i,\"筆資料\")\n",
    "# print(data[0])\n",
    "print(\"欄位如下:\")\n",
    "for content in data[0]:\n",
    "    print(content)"
   ]
  },
  {
   "cell_type": "code",
   "execution_count": 42,
   "metadata": {},
   "outputs": [
    {
     "name": "stdout",
     "output_type": "stream",
     "text": [
      "一秒變神奇寶貝狃拉 2020-03-01T15:08:55.199Z 9 213\n",
      "我的貓是什麼品種？ 2020-03-01T11:15:38.320Z 14 205\n",
      "我說睡就睡 2020-03-01T16:45:23.608Z 2 59\n",
      "曬個法鬥 2020-03-01T11:49:19.897Z 7 56\n",
      "三重 協尋貓咪\n",
      "請大家幫忙留意~謝謝 QAQ 2020-03-01T01:23:57.748Z 1 53\n",
      "黃金瑞比崩壞系列 2020-03-01T08:42:58.993Z 3 42\n",
      "#圖#貓 三年後妳的樣子 2020-03-01T08:33:55.003Z 2 31\n",
      "🐹🐹想你 2020-03-01T06:20:58.390Z 0 31\n",
      "不小心敗了一件少女風給茶包 2020-03-02T02:06:21.546Z 3 28\n",
      "我要通緝妳的狗🚓 2020-03-02T01:35:29.456Z 2 27\n",
      "士在哈嘍！ 2020-03-01T21:07:31.469Z 3 27\n",
      "你太可愛了喔(⁎⁍̴̛ᴗ⁍̴̛⁎) 2020-03-01T05:24:26.503Z 5 27\n",
      "⚠️急尋貓 2020-03-01T12:21:16.288Z 0 22\n",
      "我就爛啦喵！ 2020-03-02T04:45:11.891Z 3 18\n",
      "我家的貓真的覺得自己是女王^_^ 2020-03-01T10:53:27.848Z 3 17\n",
      "你認真的表情讓我害怕 2020-03-01T05:58:55.903Z 2 16\n",
      "在動物醫院工作的小確幸 2020-03-01T11:40:24.081Z 5 15\n",
      "台中太平洋鸚鵡飛失 2020-03-01T11:11:54.026Z 1 14\n",
      "遛貓絕對不是好點子 2020-03-02T04:38:40.592Z 0 13\n",
      "撞死小貓無良肇事者、怕輿論的警員、小貓飼主反被罰 2020-03-01T16:13:24.677Z 3 13\n",
      "喵睡姿 2020-03-01T12:04:06.947Z 2 12\n",
      "另一種方式曬貓♥️ 2020-03-01T14:40:27.782Z 2 11\n",
      "協尋三重的貓咪 2020-03-01T05:37:48.813Z 1 10\n",
      "男朋友加班，感到生無可戀的貓 2020-03-01T17:24:38.496Z 1 9\n",
      "養了狗以後。爸媽的轉變😱 2020-03-01T13:45:55.493Z 2 9\n",
      "我是北藤 2020-03-01T11:00:51.616Z 1 8\n",
      "協尋 虎皮鸚鵡 2020-03-01T03:51:21.462Z 0 8\n",
      "為新狗狗取新名字 2020-03-01T15:45:23.469Z 16 7\n",
      "3K英短？ 2020-03-01T07:29:05.010Z 15 7\n",
      "對喔! 2020-03-02T05:09:05.207Z 0 6\n"
     ]
    }
   ],
   "source": [
    "# 2. 取出每一筆資料的「標題」、「貼文時間」、「留言人數」、「按讚人數」\n",
    "for line in data:\n",
    "    print(line['title'],line['createdAt'],line['commentCount'],line['likeCount'])"
   ]
  },
  {
   "cell_type": "code",
   "execution_count": 43,
   "metadata": {},
   "outputs": [
    {
     "name": "stdout",
     "output_type": "stream",
     "text": [
      "熱門\n",
      "平均留言人數 3.6\n",
      "平均按讚人數 33.8\n"
     ]
    }
   ],
   "source": [
    "# 3. 計算熱門/非熱門文章的「平均留言人數」與「平均按讚人數」\n",
    "i=0\n",
    "cc_total=0.0\n",
    "cc_like = 0.0\n",
    "for line in data:\n",
    "    cc_total+= line['commentCount']\n",
    "    cc_like += line['likeCount']\n",
    "    i=i+1;\n",
    "print(\"熱門\")\n",
    "print(\"平均留言人數\",cc_total/i)\n",
    "print(\"平均按讚人數\",cc_like/i)"
   ]
  },
  {
   "cell_type": "code",
   "execution_count": null,
   "metadata": {},
   "outputs": [],
   "source": []
  },
  {
   "cell_type": "code",
   "execution_count": null,
   "metadata": {},
   "outputs": [],
   "source": []
  }
 ],
 "metadata": {
  "kernelspec": {
   "display_name": "Python 3",
   "language": "python",
   "name": "python3"
  },
  "language_info": {
   "codemirror_mode": {
    "name": "ipython",
    "version": 3
   },
   "file_extension": ".py",
   "mimetype": "text/x-python",
   "name": "python",
   "nbconvert_exporter": "python",
   "pygments_lexer": "ipython3",
   "version": "3.7.5"
  }
 },
 "nbformat": 4,
 "nbformat_minor": 2
}
