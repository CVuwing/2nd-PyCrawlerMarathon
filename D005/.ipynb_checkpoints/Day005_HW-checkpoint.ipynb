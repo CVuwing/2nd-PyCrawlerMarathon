{
 "cells": [
  {
   "cell_type": "markdown",
   "metadata": {},
   "source": [
    "# API 資料串接 - 以 Dcard API 實作範例\n",
    "\n",
    "* 了解 Dcard API 使用方式與回傳內容\n",
    "* 撰寫程式存取 API 且解析 JSON 格式資料\n"
   ]
  },
  {
   "cell_type": "markdown",
   "metadata": {},
   "source": [
    "## 作業目標\n",
    "\n",
    "* 請利用 API: https://www.dcard.tw/_api/forums/pet/posts?popular=true 回答下列問題：\n",
    "\n",
    "1. 這個 API 一次會回傳幾筆資料？每一筆資料包含哪些欄位？\n",
    "2. 取出每一筆資料的「標題」、「貼文時間」、「留言人數」、「按讚人數」\n",
    "3. 計算熱門/非熱門文章的「平均留言人數」與「平均按讚人數」"
   ]
  },
  {
   "cell_type": "code",
   "execution_count": 7,
   "metadata": {},
   "outputs": [
    {
     "name": "stdout",
     "output_type": "stream",
     "text": [
      "30\n",
      "欄位如下:\n",
      "id\n",
      "title\n",
      "excerpt\n",
      "anonymousSchool\n",
      "anonymousDepartment\n",
      "pinned\n",
      "forumId\n",
      "replyId\n",
      "createdAt\n",
      "updatedAt\n",
      "commentCount\n",
      "likeCount\n",
      "withNickname\n",
      "tags\n",
      "topics\n",
      "meta\n",
      "forumName\n",
      "forumAlias\n",
      "gender\n",
      "school\n",
      "replyTitle\n",
      "mediaMeta\n",
      "reactions\n",
      "hidden\n",
      "customStyle\n",
      "isSuspiciousAccount\n",
      "layout\n",
      "withImages\n",
      "withVideos\n",
      "media\n",
      "reportReasonText\n",
      "postAvatar\n"
     ]
    }
   ],
   "source": [
    "# 1. 這個 API 一次會回傳幾筆資料？每一筆資料包含哪些欄位？\n",
    "import requests\n",
    "import json\n",
    "r = requests.get('https://www.dcard.tw/_api/forums/pet/posts?popular=true')\n",
    "response = r.text\n",
    "data = json.loads(response)\n",
    "# print(data)\n",
    "i=0\n",
    "j=0\n",
    "# for line in data:\n",
    "#     i=i+1\n",
    "# #     print(line)\n",
    "# print(i,\"筆資料\")\n",
    "print(len(data))\n",
    "# print(data[0])\n",
    "print(\"欄位如下:\")\n",
    "for content in data[0]:\n",
    "    print(content)"
   ]
  },
  {
   "cell_type": "code",
   "execution_count": 8,
   "metadata": {},
   "outputs": [
    {
     "name": "stdout",
     "output_type": "stream",
     "text": [
      "一秒變神奇寶貝瑪狃拉 2020-03-01T15:08:55.199Z 41 2881\n",
      "不小心敗了一件少女風給茶包 2020-03-02T02:06:21.546Z 8 413\n",
      "我說睡就睡 2020-03-01T16:45:23.608Z 8 320\n",
      "遛貓絕對不是好點子 2020-03-02T04:38:40.592Z 8 176\n",
      "我要通緝妳的狗🚓 2020-03-02T01:35:29.456Z 4 153\n",
      "我就爛啦喵！ 2020-03-02T04:45:11.891Z 12 140\n",
      "士在哈嘍！ 2020-03-01T21:07:31.469Z 4 91\n",
      "犬種介紹  大和戰犬 秋田~（更） 2020-03-02T15:51:36.877Z 9 23\n",
      "男朋友加班，感到生無可戀的貓 2020-03-01T17:24:38.496Z 2 20\n",
      "陪我一年十個月又十三天👼🏻 2020-03-02T08:05:42.046Z 2 19\n",
      "另一種方式曬貓♥️ 2020-03-01T14:40:27.782Z 3 18\n",
      "對喔! (正主出現嘍!) 2020-03-02T05:09:05.207Z 6 15\n",
      "你的肉肉 無所遁形！ 2020-03-02T16:15:16.770Z 0 14\n",
      "好壞好壞的雞🤦🤦🤦 2020-03-02T06:55:25.975Z 7 14\n",
      "協尋：如果您發現玄鳳 （新北新店） 2020-03-02T05:33:55.438Z 0 14\n",
      "自帶表情包的柴柴 2020-03-02T13:38:42.074Z 3 13\n",
      "在限動放倉鼠的萬能同學 2020-03-02T12:02:19.590Z 0 11\n",
      "這次男友吃醋了 2020-03-01T18:18:58.220Z 0 10\n",
      "協尋！藍色虎皮鸚鵡！！！ 2020-03-01T17:50:22.003Z 1 10\n",
      "懇請大家協尋狗狗（鐵蛋） 2020-03-02T11:04:07.155Z 2 9\n",
      "你誰！？ 2020-03-01T19:54:11.729Z 0 9\n",
      "為新狗狗取新名字 2020-03-01T15:45:23.469Z 18 9\n",
      "冥想？睡著了？ 2020-03-02T02:35:45.105Z 0 8\n",
      "尋貓啟示 2020-03-02T05:34:06.450Z 0 6\n",
      "開學最不捨的事情 2020-03-01T18:26:40.172Z 2 6\n",
      "為啥貓老愛攻擊我的腳== 2020-03-02T04:32:40.868Z 1 5\n",
      "#急 請問有人想要領養黃金鼠的嗎？ 2020-03-02T20:07:01.931Z 3 3\n",
      "#貓 一生只督你一人 2020-03-02T17:15:24.284Z 0 3\n",
      "該行當雞孵蛋？ 2020-03-02T15:00:57.053Z 1 3\n",
      "我家狗的名字🙃很鬧 2020-03-01T22:46:42.185Z 0 3\n"
     ]
    }
   ],
   "source": [
    "# 2. 取出每一筆資料的「標題」、「貼文時間」、「留言人數」、「按讚人數」\n",
    "for line in data:\n",
    "    print(line['title'],line['createdAt'],line['commentCount'],line['likeCount'])"
   ]
  },
  {
   "cell_type": "code",
   "execution_count": 9,
   "metadata": {},
   "outputs": [
    {
     "name": "stdout",
     "output_type": "stream",
     "text": [
      "熱門\n",
      "平均留言人數 4.833333333333333\n",
      "平均按讚人數 147.3\n",
      "非熱門\n",
      "平均留言人數 3.1666666666666665\n",
      "平均按讚人數 36.06666666666667\n"
     ]
    }
   ],
   "source": [
    "# 3. 計算熱門/非熱門文章的「平均留言人數」與「平均按讚人數」\n",
    "cc_total=0.0\n",
    "cc_like = 0.0\n",
    "for line in data:\n",
    "    cc_total+= line['commentCount']\n",
    "    cc_like += line['likeCount']\n",
    "print(\"熱門\")\n",
    "print(\"平均留言人數\",cc_total/len(data))\n",
    "print(\"平均按讚人數\",cc_like/len(data))\n",
    "r = requests.get('https://www.dcard.tw/_api/forums/pet/posts?popular=false')\n",
    "response = r.text\n",
    "data = json.loads(response)\n",
    "cc_total=0.0\n",
    "cc_like = 0.0\n",
    "for line in data:\n",
    "    cc_total+= line['commentCount']\n",
    "    cc_like += line['likeCount']\n",
    "print(\"非熱門\")\n",
    "print(\"平均留言人數\",cc_total/len(data))\n",
    "print(\"平均按讚人數\",cc_like/len(data))"
   ]
  },
  {
   "cell_type": "code",
   "execution_count": null,
   "metadata": {},
   "outputs": [],
   "source": []
  },
  {
   "cell_type": "code",
   "execution_count": null,
   "metadata": {},
   "outputs": [],
   "source": []
  }
 ],
 "metadata": {
  "kernelspec": {
   "display_name": "Python 3",
   "language": "python",
   "name": "python3"
  },
  "language_info": {
   "codemirror_mode": {
    "name": "ipython",
    "version": 3
   },
   "file_extension": ".py",
   "mimetype": "text/x-python",
   "name": "python",
   "nbconvert_exporter": "python",
   "pygments_lexer": "ipython3",
   "version": "3.7.5"
  }
 },
 "nbformat": 4,
 "nbformat_minor": 2
}
